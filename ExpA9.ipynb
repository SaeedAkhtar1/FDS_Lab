{
  "nbformat": 4,
  "nbformat_minor": 0,
  "metadata": {
    "colab": {
      "provenance": [],
      "authorship_tag": "ABX9TyOj0IrLZGU/c/ZXCBzuMZcb",
      "include_colab_link": true
    },
    "kernelspec": {
      "name": "python3",
      "display_name": "Python 3"
    },
    "language_info": {
      "name": "python"
    }
  },
  "cells": [
    {
      "cell_type": "markdown",
      "metadata": {
        "id": "view-in-github",
        "colab_type": "text"
      },
      "source": [
        "<a href=\"https://colab.research.google.com/github/SaeedAkhtar1/FDS_Lab/blob/main/ExpA9.ipynb\" target=\"_parent\"><img src=\"https://colab.research.google.com/assets/colab-badge.svg\" alt=\"Open In Colab\"/></a>"
      ]
    },
    {
      "cell_type": "markdown",
      "source": [
        "A9.\n",
        "Write a Python program to compute following computation on matrix: a) Addition of two matrices B) Subtraction of two matrices c) Multiplication of two matrices d) Transpose of a matrix"
      ],
      "metadata": {
        "id": "CpPVJv8lBbSa"
      }
    },
    {
      "cell_type": "code",
      "source": [
        "import numpy as np"
      ],
      "metadata": {
        "id": "k2uS58lQBdDF"
      },
      "execution_count": 1,
      "outputs": []
    },
    {
      "cell_type": "code",
      "source": [
        "matrix1=np.array([[1,3,5],[4,6,2],[3,9,5]])\n",
        "matrix2=np.array([[3,5,6],[2,6,3],[2,5,3]])\n",
        "print(matrix1)\n",
        "print(\"\\n\")\n",
        "print(matrix2)"
      ],
      "metadata": {
        "colab": {
          "base_uri": "https://localhost:8080/"
        },
        "id": "Ys2KXSIpBqi8",
        "outputId": "e26221c3-5594-4695-829d-91d0f349bf80"
      },
      "execution_count": 2,
      "outputs": [
        {
          "output_type": "stream",
          "name": "stdout",
          "text": [
            "[[1 3 5]\n",
            " [4 6 2]\n",
            " [3 9 5]]\n",
            "\n",
            "\n",
            "[[3 5 6]\n",
            " [2 6 3]\n",
            " [2 5 3]]\n"
          ]
        }
      ]
    },
    {
      "cell_type": "code",
      "source": [
        "#function to perform addition of matrices\n",
        "def matrices_add(matrix1, matrix2):\n",
        "    return np.add(matrix1, matrix2)\n",
        "matrices_add(matrix1,matrix2)"
      ],
      "metadata": {
        "colab": {
          "base_uri": "https://localhost:8080/"
        },
        "id": "hf1dZjZXBwIm",
        "outputId": "0cce4fc3-efe4-4f4d-fd11-5b5543a79a00"
      },
      "execution_count": 3,
      "outputs": [
        {
          "output_type": "execute_result",
          "data": {
            "text/plain": [
              "array([[ 4,  8, 11],\n",
              "       [ 6, 12,  5],\n",
              "       [ 5, 14,  8]])"
            ]
          },
          "metadata": {},
          "execution_count": 3
        }
      ]
    },
    {
      "cell_type": "code",
      "source": [
        "#function to perform subtraction of matrices\n",
        "def matrices_sub(matrix1, matrix2):\n",
        "    return np.subtract(matrix1, matrix2)\n",
        "matrices_sub(matrix1, matrix2)"
      ],
      "metadata": {
        "colab": {
          "base_uri": "https://localhost:8080/"
        },
        "id": "ppfMdTkXB9S9",
        "outputId": "98e753b6-09db-4b57-faa4-2f21ad1401cf"
      },
      "execution_count": 4,
      "outputs": [
        {
          "output_type": "execute_result",
          "data": {
            "text/plain": [
              "array([[-2, -2, -1],\n",
              "       [ 2,  0, -1],\n",
              "       [ 1,  4,  2]])"
            ]
          },
          "metadata": {},
          "execution_count": 4
        }
      ]
    },
    {
      "cell_type": "code",
      "source": [
        "#function to perform multiplication of matrices\n",
        "def matrices_multiplication(matrix1, matrix2):\n",
        "    return np.dot(matrix1, matrix2)\n",
        "matrices_multiplication(matrix1, matrix2)"
      ],
      "metadata": {
        "colab": {
          "base_uri": "https://localhost:8080/"
        },
        "id": "unS_qJGYCE4n",
        "outputId": "8d23a924-daa0-4c49-e4a8-a2946c1afd18"
      },
      "execution_count": 5,
      "outputs": [
        {
          "output_type": "execute_result",
          "data": {
            "text/plain": [
              "array([[19, 48, 30],\n",
              "       [28, 66, 48],\n",
              "       [37, 94, 60]])"
            ]
          },
          "metadata": {},
          "execution_count": 5
        }
      ]
    },
    {
      "cell_type": "code",
      "source": [
        "matrix1*matrix2"
      ],
      "metadata": {
        "colab": {
          "base_uri": "https://localhost:8080/"
        },
        "id": "i3PjK7bfCKNp",
        "outputId": "ee851ccf-1330-4aad-e5d2-5f7494055a59"
      },
      "execution_count": 6,
      "outputs": [
        {
          "output_type": "execute_result",
          "data": {
            "text/plain": [
              "array([[ 3, 15, 30],\n",
              "       [ 8, 36,  6],\n",
              "       [ 6, 45, 15]])"
            ]
          },
          "metadata": {},
          "execution_count": 6
        }
      ]
    },
    {
      "cell_type": "code",
      "source": [
        "#function to perform Transpose of matrix\n",
        "def matrix_transpose(matrix):\n",
        "    return np.transpose(matrix)\n",
        "matrix_transpose(matrix1)\n"
      ],
      "metadata": {
        "colab": {
          "base_uri": "https://localhost:8080/"
        },
        "id": "G8A1ZHL_CO_C",
        "outputId": "174feef3-74ed-45ea-b766-c0d903ac9b2f"
      },
      "execution_count": 7,
      "outputs": [
        {
          "output_type": "execute_result",
          "data": {
            "text/plain": [
              "array([[1, 4, 3],\n",
              "       [3, 6, 9],\n",
              "       [5, 2, 5]])"
            ]
          },
          "metadata": {},
          "execution_count": 7
        }
      ]
    },
    {
      "cell_type": "code",
      "source": [
        "matrix_transpose(matrix2)"
      ],
      "metadata": {
        "colab": {
          "base_uri": "https://localhost:8080/"
        },
        "id": "TxWHSR6EClz3",
        "outputId": "14ff0848-b20f-4195-b002-1ddf76f42db5"
      },
      "execution_count": 8,
      "outputs": [
        {
          "output_type": "execute_result",
          "data": {
            "text/plain": [
              "array([[3, 2, 2],\n",
              "       [5, 6, 5],\n",
              "       [6, 3, 3]])"
            ]
          },
          "metadata": {},
          "execution_count": 8
        }
      ]
    },
    {
      "cell_type": "code",
      "source": [],
      "metadata": {
        "id": "jr_kAS23Cqyr"
      },
      "execution_count": null,
      "outputs": []
    }
  ]
}