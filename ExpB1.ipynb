{
  "nbformat": 4,
  "nbformat_minor": 0,
  "metadata": {
    "colab": {
      "provenance": [],
      "authorship_tag": "ABX9TyM2FmLRSiSNT54ofyZfbIbH",
      "include_colab_link": true
    },
    "kernelspec": {
      "name": "python3",
      "display_name": "Python 3"
    },
    "language_info": {
      "name": "python"
    }
  },
  "cells": [
    {
      "cell_type": "markdown",
      "metadata": {
        "id": "view-in-github",
        "colab_type": "text"
      },
      "source": [
        "<a href=\"https://colab.research.google.com/github/SaeedAkhtar1/FDS_Lab/blob/main/ExpB1.ipynb\" target=\"_parent\"><img src=\"https://colab.research.google.com/assets/colab-badge.svg\" alt=\"Open In Colab\"/></a>"
      ]
    },
    {
      "cell_type": "markdown",
      "source": [
        "a) Write a Python program to store roll numbers of student in array who attended\n",
        "training program in random order. Write function for searching whether particular\n",
        "student attended training program or not, using Linear search and Sentinel search.\n",
        "\n",
        "b) Write a Python program to store roll numbers of student array who attended training\n",
        "program in sorted order. Write function for searching whether particular student\n",
        "attended training program or not, using Binary search and Fibonacci search"
      ],
      "metadata": {
        "id": "4NMglZwHuiRU"
      }
    },
    {
      "cell_type": "code",
      "execution_count": null,
      "metadata": {
        "id": "38GJFvs2uJyf"
      },
      "outputs": [],
      "source": []
    },
    {
      "cell_type": "markdown",
      "source": [
        "**1. Linear Search:**\n",
        "\n",
        "Definition: A straightforward search algorithm where each element in the array is checked one by one until the desired element is found or the end of the array is reached.\n",
        "Time Complexity: O(n) where n is the number of elements in the array.\n",
        "\n",
        "\n",
        "Best Case: O(1), when the element is at the beginning.\n",
        "\n",
        "Worst Case: O(n), when the element is at the end or not present at all.\n",
        "\n",
        "Usage: Simple but inefficient for large datasets."
      ],
      "metadata": {
        "id": "xuDUb2oTweSL"
      }
    },
    {
      "cell_type": "code",
      "source": [
        "def linear_search(arr, x):\n",
        "    for i in range(len(arr)):\n",
        "        if arr[i] == x:\n",
        "            return i  # Return index if found\n",
        "    return -1  # Return -1 if not found\n",
        ""
      ],
      "metadata": {
        "id": "1ECo6Fs2ukYS"
      },
      "execution_count": 2,
      "outputs": []
    },
    {
      "cell_type": "code",
      "source": [
        "arr=[2,4,6,8,3,9]\n",
        "x=3\n",
        "linear_search(arr,x)"
      ],
      "metadata": {
        "colab": {
          "base_uri": "https://localhost:8080/"
        },
        "id": "kLRsKT2WxrN_",
        "outputId": "b658a41c-b863-4f26-e636-5650279a0815"
      },
      "execution_count": 3,
      "outputs": [
        {
          "output_type": "execute_result",
          "data": {
            "text/plain": [
              "4"
            ]
          },
          "metadata": {},
          "execution_count": 3
        }
      ]
    },
    {
      "cell_type": "code",
      "source": [
        "x=0\n",
        "linear_search(arr,x)"
      ],
      "metadata": {
        "colab": {
          "base_uri": "https://localhost:8080/"
        },
        "id": "vYxayjVAx0Hj",
        "outputId": "fe3d4344-a654-419a-e496-49d598224edb"
      },
      "execution_count": 4,
      "outputs": [
        {
          "output_type": "execute_result",
          "data": {
            "text/plain": [
              "-1"
            ]
          },
          "metadata": {},
          "execution_count": 4
        }
      ]
    },
    {
      "cell_type": "markdown",
      "source": [
        "**2. Sentinel Search:**\n",
        "Definition: A variation of Linear Search, where the last element of the array is temporarily replaced by the target element as a sentinel. This helps avoid unnecessary boundary checks.\n",
        "\n",
        "Time Complexity: O(n) in the worst case, like linear search, but with fewer comparisons.\n",
        "\n",
        "Best Case: O(1), when the element is at the beginning.\n",
        "\n",
        "Worst Case: O(n), when the element is not present or at the end.\n",
        "\n",
        "Usage: Improves efficiency slightly over linear search by reducing the number of comparisons."
      ],
      "metadata": {
        "id": "p1R6bLZlyeoF"
      }
    },
    {
      "cell_type": "code",
      "source": [
        "def sentinel_search(arr, x):\n",
        "    n = len(arr)\n",
        "    last = arr[n - 1]\n",
        "    arr[n - 1] = x  # Place the target as a sentinel at the last position\n",
        "    i = 0\n",
        "\n",
        "    while arr[i] != x:\n",
        "        i += 1\n",
        "\n",
        "    arr[n - 1] = last  # Restore the original last element\n",
        "\n",
        "    if i < n - 1 or arr[n - 1] == x:\n",
        "        return i  # Return index if found\n",
        "    return -1  # Return -1 if not found\n"
      ],
      "metadata": {
        "id": "N1-rRVyZyAyz"
      },
      "execution_count": 5,
      "outputs": []
    },
    {
      "cell_type": "code",
      "source": [
        "arr=[2,4,6,8,3,9]\n",
        "x=3\n",
        "sentinel_search(arr,x)"
      ],
      "metadata": {
        "colab": {
          "base_uri": "https://localhost:8080/"
        },
        "id": "yTJjn65by4cO",
        "outputId": "c57152a3-5539-4fc4-bc2b-71d0eda56cc5"
      },
      "execution_count": 11,
      "outputs": [
        {
          "output_type": "execute_result",
          "data": {
            "text/plain": [
              "4"
            ]
          },
          "metadata": {},
          "execution_count": 11
        }
      ]
    },
    {
      "cell_type": "code",
      "source": [
        "x=0\n",
        "sentinel_search(arr,x)"
      ],
      "metadata": {
        "colab": {
          "base_uri": "https://localhost:8080/"
        },
        "id": "xti8NUiJy8s6",
        "outputId": "863f60b8-7fcb-49ae-8159-b0acfe67af94"
      },
      "execution_count": 12,
      "outputs": [
        {
          "output_type": "execute_result",
          "data": {
            "text/plain": [
              "-1"
            ]
          },
          "metadata": {},
          "execution_count": 12
        }
      ]
    },
    {
      "cell_type": "markdown",
      "source": [
        "**3. Binary Search:**\n",
        "Definition: A highly efficient algorithm that divides the search interval in half at every step. It requires the array to be sorted.\n",
        "\n",
        "Time Complexity: O(log n), where n is the number of elements.\n",
        "\n",
        "Best Case: O(1), when the element is found at the middle.\n",
        "\n",
        "Worst Case: O(log n), for large datasets this is very efficient.\n",
        "\n",
        "Usage: Ideal for large datasets that are sorted."
      ],
      "metadata": {
        "id": "E0YoY__jzY7q"
      }
    },
    {
      "cell_type": "code",
      "source": [
        "def binary_search(arr, x):\n",
        "    low = 0\n",
        "    high = len(arr) - 1\n",
        "\n",
        "    while low <= high:\n",
        "        mid = (low + high) // 2\n",
        "        if arr[mid] == x:\n",
        "            return mid  # Return index if found\n",
        "        elif arr[mid] < x:\n",
        "            low = mid + 1\n",
        "        else:\n",
        "            high = mid - 1\n",
        "\n",
        "    return -1  # Return -1 if not found"
      ],
      "metadata": {
        "id": "M_SJJnF3zGUQ"
      },
      "execution_count": 13,
      "outputs": []
    },
    {
      "cell_type": "code",
      "source": [
        "arr=[2,4,6,8,3,9]\n",
        "x=3\n",
        "binary_search(arr,x)"
      ],
      "metadata": {
        "colab": {
          "base_uri": "https://localhost:8080/"
        },
        "id": "CNtAVsASztCO",
        "outputId": "8c9aaad1-1c7d-4676-cdc6-ee7b8cd07924"
      },
      "execution_count": 14,
      "outputs": [
        {
          "output_type": "execute_result",
          "data": {
            "text/plain": [
              "-1"
            ]
          },
          "metadata": {},
          "execution_count": 14
        }
      ]
    },
    {
      "cell_type": "code",
      "source": [
        "x=0\n",
        "binary_search(arr,x)"
      ],
      "metadata": {
        "colab": {
          "base_uri": "https://localhost:8080/"
        },
        "id": "Irx4lWZK08SZ",
        "outputId": "0b134953-d6bd-4ff2-d8a9-00a299a350cf"
      },
      "execution_count": 15,
      "outputs": [
        {
          "output_type": "execute_result",
          "data": {
            "text/plain": [
              "-1"
            ]
          },
          "metadata": {},
          "execution_count": 15
        }
      ]
    },
    {
      "cell_type": "markdown",
      "source": [
        "A **Fibonacci number** is part of a sequence called the Fibonacci sequence, where each number is the sum of the two preceding ones. The sequence starts with 0 and 1. It is defined as:\n",
        "\n",
        "𝐹\n",
        "(\n",
        "𝑛\n",
        ")\n",
        "=\n",
        "𝐹\n",
        "(\n",
        "𝑛\n",
        "−\n",
        "1\n",
        ")\n",
        "+\n",
        "𝐹\n",
        "(\n",
        "𝑛\n",
        "−\n",
        "2\n",
        ")\n",
        "\n",
        "F(n)=F(n−1)+F(n−2)\n",
        "\n",
        "With initial conditions:\n",
        "\n",
        "𝐹\n",
        "(\n",
        "0\n",
        ")\n",
        "=\n",
        "0\n",
        ",\n",
        "𝐹\n",
        "(\n",
        "1\n",
        ")\n",
        "=\n",
        "1\n",
        "F(0)=0,F(1)=1\n",
        "\n",
        "Thus, the Fibonacci sequence looks like this:\n",
        "\n",
        "\n",
        "0\n",
        ",\n",
        "1\n",
        ",\n",
        "1\n",
        ",\n",
        "2\n",
        ",\n",
        "3\n",
        ",\n",
        "5\n",
        ",\n",
        "8\n",
        ",\n",
        "13\n",
        ",\n",
        "21\n",
        ",\n",
        "34\n",
        ",\n",
        "55\n",
        ",\n",
        "89\n",
        ",\n",
        "144\n",
        ",\n",
        "233\n",
        ",\n",
        "…\n",
        "0,1,1,2,3,5,8,13,21,34,55,89,144,233,…"
      ],
      "metadata": {
        "id": "6lFUndvxDc4N"
      }
    },
    {
      "cell_type": "markdown",
      "source": [
        "**4. Fibonacci Search:**\n",
        "Definition: A search algorithm similar to Binary Search but uses Fibonacci numbers to divide the array into smaller sections. It is useful for scenarios where the cost of accessing elements in the array is higher (such as in memory paging).\n",
        "\n",
        "Time Complexity: O(log n), but slower compared to binary search due to more operations to calculate Fibonacci numbers.\n",
        "\n",
        "Best Case: O(1), when the element is found early.\n",
        "\n",
        "Worst Case: O(log n), as the number of comparisons increases logarithmically with the array size.\n",
        "\n",
        "Usage: Applicable to sorted arrays and in systems where array access is expensive."
      ],
      "metadata": {
        "id": "AowkA_oa422m"
      }
    },
    {
      "cell_type": "code",
      "source": [
        "def fibonacci_search(arr, x):\n",
        "    n = len(arr)\n",
        "\n",
        "    # Initialize Fibonacci numbers\n",
        "    fibMMm2 = 0  # (m-2)'th Fibonacci number\n",
        "    fibMMm1 = 1  # (m-1)'th Fibonacci number\n",
        "    fibM = fibMMm2 + fibMMm1  # m'th Fibonacci number\n",
        "\n",
        "    # Find the smallest Fibonacci number greater than or equal to n\n",
        "    while fibM < n:\n",
        "        fibMMm2 = fibMMm1\n",
        "        fibMMm1 = fibM\n",
        "        fibM = fibMMm2 + fibMMm1\n",
        "\n",
        "    offset = -1  # Marks eliminated range from the front\n",
        "\n",
        "    while fibM > 1:\n",
        "        i = min(offset + fibMMm2, n - 1)\n",
        "\n",
        "        if arr[i] < x:\n",
        "            fibM = fibMMm1\n",
        "            fibMMm1 = fibMMm2\n",
        "            fibMMm2 = fibM - fibMMm1\n",
        "            offset = i\n",
        "        elif arr[i] > x:\n",
        "            fibM = fibMMm2\n",
        "            fibMMm1 = fibMMm1 - fibMMm2\n",
        "            fibMMm2 = fibM - fibMMm1\n",
        "        else:\n",
        "            return i  # Return index if found\n",
        "\n",
        "    if fibMMm1 and arr[offset + 1] == x:\n",
        "        return offset + 1  # Return index if found\n",
        "\n",
        "    return -1  # Return -1 if not found"
      ],
      "metadata": {
        "id": "24sR-L051uQs"
      },
      "execution_count": 19,
      "outputs": []
    },
    {
      "cell_type": "code",
      "source": [
        "\n",
        "arr=[2,4,6,1,8,3,9]\n",
        "x=3\n",
        "fibonacci_search(arr,x)"
      ],
      "metadata": {
        "colab": {
          "base_uri": "https://localhost:8080/"
        },
        "id": "73qiehWt40U_",
        "outputId": "70853025-ef20-4a47-92a7-07b049d05e89"
      },
      "execution_count": 22,
      "outputs": [
        {
          "output_type": "execute_result",
          "data": {
            "text/plain": [
              "-1"
            ]
          },
          "metadata": {},
          "execution_count": 22
        }
      ]
    },
    {
      "cell_type": "code",
      "source": [
        "x=0\n",
        "fibonacci_search(arr,x)"
      ],
      "metadata": {
        "colab": {
          "base_uri": "https://localhost:8080/"
        },
        "id": "qRjxEcU36xA7",
        "outputId": "7bc0a8f4-d5a6-4189-82af-64a504ce74c3"
      },
      "execution_count": 23,
      "outputs": [
        {
          "output_type": "execute_result",
          "data": {
            "text/plain": [
              "-1"
            ]
          },
          "metadata": {},
          "execution_count": 23
        }
      ]
    },
    {
      "cell_type": "markdown",
      "source": [
        "**a) Write a Python program to store roll numbers of student in array who attended training program in random order. Write function for searching whether particular student attended training program or not, using Linear search and Sentinel search.**"
      ],
      "metadata": {
        "id": "hwiEZ3xnBSDk"
      }
    },
    {
      "cell_type": "code",
      "source": [
        "# Linear Search\n",
        "def linear_search(arr, x):\n",
        "    for i in range(len(arr)):\n",
        "        if arr[i] == x:\n",
        "            return True\n",
        "    return False\n",
        "\n",
        "# Sentinel Search\n",
        "def sentinel_search(arr, x):\n",
        "    n = len(arr)\n",
        "    last = arr[n - 1]\n",
        "    arr[n - 1] = x  # Set last element as sentinel\n",
        "    i = 0\n",
        "\n",
        "    while arr[i] != x:\n",
        "        i += 1\n",
        "\n",
        "    arr[n - 1] = last  # Restore last element\n",
        "\n",
        "    if i < n - 1 or arr[n - 1] == x:\n",
        "        return True\n",
        "    return False\n",
        "\n",
        "# Main Program\n",
        "def main():\n",
        "    roll_numbers = [101, 102, 103, 104, 105, 106, 107]  # Random order\n",
        "    student_roll = int(input(\"Enter the roll number to search: \"))\n",
        "\n",
        "    # Using Linear Search\n",
        "    if linear_search(roll_numbers, student_roll):\n",
        "        print(f\"Student with roll number {student_roll} attended the training program (Linear Search).\")\n",
        "    else:\n",
        "        print(f\"Student with roll number {student_roll} did not attend (Linear Search).\")\n",
        "\n",
        "    # Using Sentinel Search\n",
        "    if sentinel_search(roll_numbers, student_roll):\n",
        "        print(f\"Student with roll number {student_roll} attended the training program (Sentinel Search).\")\n",
        "    else:\n",
        "        print(f\"Student with roll number {student_roll} did not attend (Sentinel Search).\")\n",
        "\n",
        "main()"
      ],
      "metadata": {
        "colab": {
          "base_uri": "https://localhost:8080/"
        },
        "id": "EepWQXSm7Ox2",
        "outputId": "30167f8b-c278-440b-cfde-8b96290d34b2"
      },
      "execution_count": 25,
      "outputs": [
        {
          "output_type": "stream",
          "name": "stdout",
          "text": [
            "Enter the roll number to search: 103\n",
            "Student with roll number 103 attended the training program (Linear Search).\n",
            "Student with roll number 103 attended the training program (Sentinel Search).\n"
          ]
        }
      ]
    },
    {
      "cell_type": "markdown",
      "source": [
        "**b) Write a Python program to store roll numbers of student array who attended training program in sorted order. Write function for searching whether particular student attended training program or not, using Binary search and Fibonacci search**"
      ],
      "metadata": {
        "id": "rqv37WSEBorE"
      }
    },
    {
      "cell_type": "code",
      "source": [
        "# Function for Binary Search\n",
        "def binary_search(arr, roll_no):\n",
        "    low = 0\n",
        "    high = len(arr) - 1\n",
        "\n",
        "    while low <= high:\n",
        "        mid = (low + high) // 2\n",
        "        if arr[mid] == roll_no:\n",
        "            return True  # Return True if roll number is found\n",
        "        elif arr[mid] < roll_no:\n",
        "            low = mid + 1\n",
        "        else:\n",
        "            high = mid - 1\n",
        "\n",
        "    return False  # Return False if roll number is not found\n",
        "\n",
        "# Function for Fibonacci Search\n",
        "def fibonacci_search(arr, roll_no):\n",
        "    n = len(arr)\n",
        "\n",
        "    # Initialize fibonacci numbers\n",
        "    fibMMm2 = 0  # (m-2)'th Fibonacci number\n",
        "    fibMMm1 = 1  # (m-1)'th Fibonacci number\n",
        "    fibM = fibMMm2 + fibMMm1  # m'th Fibonacci number\n",
        "\n",
        "    # Find the smallest Fibonacci number greater than or equal to n\n",
        "    while fibM < n:\n",
        "        fibMMm2 = fibMMm1\n",
        "        fibMMm1 = fibM\n",
        "        fibM = fibMMm2 + fibMMm1\n",
        "\n",
        "    # Marks the eliminated range from front\n",
        "    offset = -1\n",
        "\n",
        "    # While there are elements to be inspected\n",
        "    while fibM > 1:\n",
        "        # Check if fibMMm2 is a valid location\n",
        "        i = min(offset + fibMMm2, n - 1)\n",
        "\n",
        "        if arr[i] < roll_no:\n",
        "            fibM = fibMMm1\n",
        "            fibMMm1 = fibMMm2\n",
        "            fibMMm2 = fibM - fibMMm1\n",
        "            offset = i\n",
        "        elif arr[i] > roll_no:\n",
        "            fibM = fibMMm2\n",
        "            fibMMm1 = fibMMm1 - fibMMm2\n",
        "            fibMMm2 = fibM - fibMMm1\n",
        "        else:\n",
        "            return True  # Roll number found\n",
        "\n",
        "    # Compare the last element with the roll number\n",
        "    if fibMMm1 and arr[offset + 1] == roll_no:\n",
        "        return True\n",
        "\n",
        "    return False  # Return False if roll number is not found\n",
        "\n",
        "# Main program\n",
        "def main():\n",
        "    # List of roll numbers of students who attended the training program (in sorted order)\n",
        "    roll_numbers = [101, 102, 103, 104, 105, 106, 107]\n",
        "\n",
        "    # Input: Roll number to search for\n",
        "    student_roll = int(input(\"Enter the roll number to search: \"))\n",
        "\n",
        "    # Search using Binary Search\n",
        "    if binary_search(roll_numbers, student_roll):\n",
        "        print(f\"Student with roll number {student_roll} attended the training program (Binary Search).\")\n",
        "    else:\n",
        "        print(f\"Student with roll number {student_roll} did not attend the training program (Binary Search).\")\n",
        "\n",
        "    # Search using Fibonacci Search\n",
        "    if fibonacci_search(roll_numbers, student_roll):\n",
        "        print(f\"Student with roll number {student_roll} attended the training program (Fibonacci Search).\")\n",
        "    else:\n",
        "        print(f\"Student with roll number {student_roll} did not attend the training program (Fibonacci Search).\")\n",
        "\n",
        "# Run the main program\n",
        "main()"
      ],
      "metadata": {
        "colab": {
          "base_uri": "https://localhost:8080/"
        },
        "id": "Zu7Kfqme7tLd",
        "outputId": "cb8f81a6-b580-4211-d76d-ddc7d8589284"
      },
      "execution_count": 27,
      "outputs": [
        {
          "output_type": "stream",
          "name": "stdout",
          "text": [
            "Enter the roll number to search: 103\n",
            "Student with roll number 103 attended the training program (Binary Search).\n",
            "Student with roll number 103 attended the training program (Fibonacci Search).\n"
          ]
        }
      ]
    },
    {
      "cell_type": "code",
      "source": [],
      "metadata": {
        "id": "lu-FFB2cB-Il"
      },
      "execution_count": 29,
      "outputs": []
    },
    {
      "cell_type": "code",
      "source": [],
      "metadata": {
        "id": "IMuyEGRgC1PE"
      },
      "execution_count": null,
      "outputs": []
    }
  ]
}