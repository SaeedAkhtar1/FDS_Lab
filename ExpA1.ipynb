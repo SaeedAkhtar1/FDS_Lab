{
  "nbformat": 4,
  "nbformat_minor": 0,
  "metadata": {
    "colab": {
      "provenance": [],
      "authorship_tag": "ABX9TyN9NicIXhBe87Gyb+hmTbbz",
      "include_colab_link": true
    },
    "kernelspec": {
      "name": "python3",
      "display_name": "Python 3"
    },
    "language_info": {
      "name": "python"
    }
  },
  "cells": [
    {
      "cell_type": "markdown",
      "metadata": {
        "id": "view-in-github",
        "colab_type": "text"
      },
      "source": [
        "<a href=\"https://colab.research.google.com/github/SaeedAkhtar1/FDS_Lab/blob/main/ExpA1.ipynb\" target=\"_parent\"><img src=\"https://colab.research.google.com/assets/colab-badge.svg\" alt=\"Open In Colab\"/></a>"
      ]
    },
    {
      "cell_type": "markdown",
      "source": [
        "Exp A1. In second year computer engineering class, group A student’s play cricket, group B\n",
        "students play badminton and group C students play football.\n",
        "Write a Python program using functions to compute following: -\n",
        "\n",
        "a) List of students who play both cricket and badminton\n",
        "\n",
        "b) List of students who play either cricket or badminton but not both\n",
        "\n",
        "c) Number of students who play neither cricket nor badminton\n",
        "\n",
        "d) Number of students who play cricket and football but not badminton.\n",
        "\n",
        "*(Note- While realizing the group, duplicate entries should be avoided, Do not use SET\n",
        "built-in functions)*"
      ],
      "metadata": {
        "id": "es_7HQHwNBxf"
      }
    },
    {
      "cell_type": "code",
      "execution_count": 2,
      "metadata": {
        "id": "TwNSgc7EM42t"
      },
      "outputs": [],
      "source": [
        "group_A = [\"Aman\", \"Sana\", \"Raj\", \"Fatima\", \"Aman\"]  # Students playing cricket (group A)\n",
        "group_B = [\"Sana\", \"Zara\", \"Fatima\", \"Ali\", \"Sana\"]  # Students playing badminton (group B)\n",
        "group_C = [\"Raj\", \"Ali\", \"Imran\", \"Sara\", \"Raj\"]  # Students playing football (group C)\n"
      ]
    },
    {
      "cell_type": "code",
      "source": [
        "# Function to remove duplicates from a list\n",
        "def remove_duplicates(group):\n",
        "    unique_group = []\n",
        "    for student in group:\n",
        "        if student not in unique_group:\n",
        "            unique_group.append(student)\n",
        "    return unique_group"
      ],
      "metadata": {
        "id": "A0qjCYACQyOr"
      },
      "execution_count": 3,
      "outputs": []
    },
    {
      "cell_type": "code",
      "source": [
        "# Function to find intersection of two lists (students who play both cricket and badminton)\n",
        "def intersection(group1, group2):\n",
        "    result = []\n",
        "    for student in group1:\n",
        "        if student in group2 and student not in result:\n",
        "            result.append(student)\n",
        "    return result\n"
      ],
      "metadata": {
        "id": "4WmrgA5MRX3a"
      },
      "execution_count": 4,
      "outputs": []
    },
    {
      "cell_type": "code",
      "source": [
        "# Function to find symmetric difference of two lists (students who play either cricket or badminton but not both)\n",
        "def symmetric_difference(group1, group2):\n",
        "    result = []\n",
        "    for student in group1:\n",
        "        if student not in group2 and student not in result:\n",
        "            result.append(student)\n",
        "    for student in group2:\n",
        "        if student not in group1 and student not in result:\n",
        "            result.append(student)\n",
        "    return result"
      ],
      "metadata": {
        "id": "baKsNy7JRhEE"
      },
      "execution_count": 5,
      "outputs": []
    },
    {
      "cell_type": "code",
      "source": [
        "# Function to find students who play neither cricket nor badminton\n",
        "def play_neither_cricket_nor_badminton(all_students, group_A, group_B):\n",
        "    result = []\n",
        "    for student in all_students:\n",
        "        if student not in group_A and student not in group_B:\n",
        "            result.append(student)\n",
        "    return len(result)"
      ],
      "metadata": {
        "id": "y1i8musiRojy"
      },
      "execution_count": 6,
      "outputs": []
    },
    {
      "cell_type": "code",
      "source": [
        "# Function to find students who play cricket and football but not badminton\n",
        "def play_cricket_and_football_not_badminton(group_A, group_C, group_B):\n",
        "    result = []\n",
        "    for student in group_A:\n",
        "        if student in group_C and student not in group_B and student not in result:\n",
        "            result.append(student)\n",
        "    return len(result)"
      ],
      "metadata": {
        "id": "0mvSq78tRyu8"
      },
      "execution_count": 7,
      "outputs": []
    },
    {
      "cell_type": "code",
      "source": [
        "# Remove duplicates from each group\n",
        "group_A = remove_duplicates(group_A)\n",
        "group_B = remove_duplicates(group_B)\n",
        "group_C = remove_duplicates(group_C)\n"
      ],
      "metadata": {
        "id": "RznAZ_WTR6Tf"
      },
      "execution_count": 8,
      "outputs": []
    },
    {
      "cell_type": "code",
      "source": [
        "# Universal list of all students in all groups\n",
        "all_students = group_A + group_B + group_C\n",
        "all_students = remove_duplicates(all_students)"
      ],
      "metadata": {
        "id": "ZDSNk4MeR_Ea"
      },
      "execution_count": 9,
      "outputs": []
    },
    {
      "cell_type": "code",
      "source": [
        "# Display results\n",
        "print(\"a) Students who play both cricket and badminton:\", intersection(group_A, group_B))\n",
        "\n",
        "print(\"b) Students who play either cricket or badminton but not both:\", symmetric_difference(group_A, group_B))\n",
        "\n",
        "print(\"c) Number of students who play neither cricket nor badminton:\",\n",
        "      play_neither_cricket_nor_badminton(all_students, group_A, group_B))\n",
        "\n",
        "print(\"d) Number of students who play cricket and football but not badminton:\",\n",
        "      play_cricket_and_football_not_badminton(group_A, group_C, group_B))"
      ],
      "metadata": {
        "colab": {
          "base_uri": "https://localhost:8080/"
        },
        "id": "_mpducJnSIih",
        "outputId": "a03a82e6-7c34-4935-84db-348069e31573"
      },
      "execution_count": 10,
      "outputs": [
        {
          "output_type": "stream",
          "name": "stdout",
          "text": [
            "a) Students who play both cricket and badminton: ['Sana', 'Fatima']\n",
            "b) Students who play either cricket or badminton but not both: ['Aman', 'Raj', 'Zara', 'Ali']\n",
            "c) Number of students who play neither cricket nor badminton: 2\n",
            "d) Number of students who play cricket and football but not badminton: 1\n"
          ]
        }
      ]
    },
    {
      "cell_type": "code",
      "source": [],
      "metadata": {
        "id": "jJi8udVHSS9e"
      },
      "execution_count": null,
      "outputs": []
    }
  ]
}